{
 "cells": [
  {
   "cell_type": "code",
   "execution_count": 1,
   "metadata": {},
   "outputs": [],
   "source": [
    "import pandas as pd\n",
    "import numpy as np\n",
    "from nltk.corpus import stopwords\n",
    "\n",
    "STOPWORDS = set(stopwords.words('english'))"
   ]
  },
  {
   "cell_type": "code",
   "execution_count": 2,
   "metadata": {},
   "outputs": [
    {
     "name": "stdout",
     "output_type": "stream",
     "text": [
      "(300, 10)\n",
      "Index(['sf', 'cui', 'lf', 'lf_base', 'source', 'semtypes', 'semgroups',\n",
      "       'is_train', 'is_accurate', 'is_clinical_relevant'],\n",
      "      dtype='object')\n",
      "(200, 10) (100, 10)\n"
     ]
    }
   ],
   "source": [
    "data = pd.read_csv('../../data/ml/inclusion_dataset_cleaned.csv')\n",
    "data = data.drop(['Unnamed: 10'], axis=1)\n",
    "print(data.shape)\n",
    "print(data.columns)\n",
    "\n",
    "train_df = data[data.is_train == 1]\n",
    "test_df = data[data.is_train == 0]\n",
    "\n",
    "train_df.reset_index(inplace=True, drop=True)\n",
    "test_df.reset_index(inplace=True, drop=True)\n",
    "\n",
    "print(train_df.shape, test_df.shape)"
   ]
  },
  {
   "cell_type": "code",
   "execution_count": 3,
   "metadata": {},
   "outputs": [],
   "source": [
    "task = \"is_accurate\"\n",
    "# task = \"is_clinical_relevant\""
   ]
  },
  {
   "cell_type": "code",
   "execution_count": 4,
   "metadata": {},
   "outputs": [
    {
     "name": "stdout",
     "output_type": "stream",
     "text": [
      "Negative Examples=78, Positive Examples=222\n"
     ]
    }
   ],
   "source": [
    "neg_examples = data[data[task] == 0].shape[0]\n",
    "pos_examples = data[data[task] == 1].shape[0]\n",
    "\n",
    "print('Negative Examples={}, Positive Examples={}'.format(neg_examples, pos_examples))"
   ]
  },
  {
   "cell_type": "code",
   "execution_count": 5,
   "metadata": {},
   "outputs": [],
   "source": [
    "# Generate features\n",
    "X_str = []\n",
    "y_tr = []\n",
    "for _, row in train_df.iterrows():\n",
    "    row = row.to_dict()\n",
    "    x = {}\n",
    "    sem_groups = row['semgroups'].split('|')\n",
    "    for sem_group in sem_groups:\n",
    "        x[sem_group] = 1.0\n",
    "    lfs = row['lf'].split('|')\n",
    "    x['support'] = len(lfs)\n",
    "    y_tr.append(row[task])\n",
    "    \n",
    "    sem_types = row['semtypes'].split('|')\n",
    "    for sem_type in sem_types:\n",
    "        x[sem_type] = 1.0\n",
    "    X_str.append(x)\n",
    "\n",
    "X_ste = []\n",
    "y_te = []\n",
    "for _, row in test_df.iterrows():\n",
    "    row = row.to_dict()\n",
    "    x = {}\n",
    "    sem_groups = row['semgroups'].split('|')\n",
    "    for sem_group in sem_groups:\n",
    "        x[sem_group] = 1.0\n",
    "    lfs = row['lf'].split('|')\n",
    "    x['support'] = len(lfs)\n",
    "    y_te.append(row[task])\n",
    "    \n",
    "    sem_types = row['semtypes'].split('|')\n",
    "    for sem_type in sem_types:\n",
    "        x[sem_type] = 1.0\n",
    "    X_ste.append(x)"
   ]
  },
  {
   "cell_type": "code",
   "execution_count": 6,
   "metadata": {},
   "outputs": [],
   "source": [
    "from sklearn.feature_extraction import DictVectorizer\n",
    "dv = DictVectorizer(sparse=False)\n",
    "X_tr = dv.fit_transform(X_str, y_tr)\n",
    "X_te = dv.transform(X_ste)"
   ]
  },
  {
   "cell_type": "code",
   "execution_count": 7,
   "metadata": {},
   "outputs": [
    {
     "name": "stdout",
     "output_type": "stream",
     "text": [
      "(200, 100) (100, 100)\n",
      "(200, 105) (100, 105)\n"
     ]
    }
   ],
   "source": [
    "if task == \"is_accurate\": # Not using these features gave more score for clinically relevant task\n",
    "    # Any other features\n",
    "    import editdistance as ed\n",
    "\n",
    "    num_features = 5\n",
    "\n",
    "    print(X_tr.shape, X_te.shape)\n",
    "\n",
    "    new_f = np.zeros((X_tr.shape[0],num_features))\n",
    "    X_tr = np.hstack((X_tr, new_f))\n",
    "    new_f = np.zeros((X_te.shape[0],num_features))\n",
    "    X_te = np.hstack((X_te, new_f))\n",
    "    for X, df in zip([X_tr, X_te], [train_df, test_df]):\n",
    "        for index, row in df.iterrows():\n",
    "            sf = row['sf']\n",
    "            lf = row['lf']\n",
    "            lf_base = row['lf_base']\n",
    "            sflf = ''.join([x[0] for x in lf.split(' ') if x])\n",
    "            sflf_base = ''.join([x[0] for x in lf_base.split(' ') if x])\n",
    "            X[index, 100] = ed.eval(sf.lower(), sflf.lower())\n",
    "            X[index, 101] = ed.eval(sf.lower(), sflf.lower())\n",
    "            X[index, 102] = len(lf_base)\n",
    "            X[index, 103] = len([x for x in lf.split(' ') if x in STOPWORDS])\n",
    "            X[index, 104] = 1 if row['source'] == \"pubmed\" else 0\n",
    "\n",
    "    print(X_tr.shape, X_te.shape)"
   ]
  },
  {
   "cell_type": "code",
   "execution_count": 8,
   "metadata": {},
   "outputs": [
    {
     "name": "stdout",
     "output_type": "stream",
     "text": [
      "0.8338557993730408\n"
     ]
    }
   ],
   "source": [
    "from sklearn.linear_model import LogisticRegression\n",
    "\n",
    "from sklearn.ensemble import RandomForestClassifier, AdaBoostClassifier\n",
    "from sklearn.tree import DecisionTreeClassifier\n",
    "\n",
    "from sklearn.model_selection import StratifiedShuffleSplit, KFold\n",
    "\n",
    "from sklearn.metrics import classification_report, roc_auc_score\n",
    "\n",
    "\n",
    "USE_RF = True\n",
    "if USE_RF:\n",
    "    estimator = RandomForestClassifier(n_estimators=200)\n",
    "else:\n",
    "    estimator = LogisticRegression(solver='liblinear')\n",
    "    \n",
    "\n",
    "sss = StratifiedShuffleSplit(n_splits=99, test_size=0.2)\n",
    "\n",
    "y_tests = []\n",
    "for train_index, test_index in sss.split(X_tr, y_tr):\n",
    "    X_train, X_test = X_tr[train_index], X_tr[test_index]\n",
    "    y_train, y_test = np.array(y_tr)[train_index], np.array(y_tr)[test_index]\n",
    "    auc = []\n",
    "    estimator.fit(X_train, y_train)\n",
    "    y_proba = estimator.predict_proba(X_test)[:, 1]\n",
    "    y_tests.append(estimator.predict_proba(X_te)[:, 1])\n",
    "    score = roc_auc_score(y_test, y_proba)\n",
    "    auc.append(score)\n",
    "print(np.mean(auc))"
   ]
  },
  {
   "cell_type": "code",
   "execution_count": 9,
   "metadata": {},
   "outputs": [],
   "source": [
    "y_proba = np.mean(np.vstack(y_tests), axis=0)\n",
    "y_pred = (y_proba >= 0.5).astype(int)"
   ]
  },
  {
   "cell_type": "code",
   "execution_count": 10,
   "metadata": {},
   "outputs": [
    {
     "name": "stdout",
     "output_type": "stream",
     "text": [
      "ROC AUC=0.8068887634105026\n",
      "              precision    recall  f1-score   support\n",
      "\n",
      "           0       1.00      0.61      0.76        23\n",
      "           1       0.90      1.00      0.94        77\n",
      "\n",
      "    accuracy                           0.91       100\n",
      "   macro avg       0.95      0.80      0.85       100\n",
      "weighted avg       0.92      0.91      0.90       100\n",
      "\n"
     ]
    }
   ],
   "source": [
    "roc_auc = roc_auc_score(y_te, y_proba)\n",
    "print('ROC AUC={}'.format(roc_auc))\n",
    "\n",
    "cr = classification_report(y_te, y_pred)\n",
    "print(cr)"
   ]
  },
  {
   "cell_type": "code",
   "execution_count": 11,
   "metadata": {},
   "outputs": [],
   "source": [
    "mistakes = [i for i in range(100) if y_pred[i] != y_te[i]]"
   ]
  },
  {
   "cell_type": "code",
   "execution_count": 12,
   "metadata": {},
   "outputs": [
    {
     "data": {
      "text/html": [
       "<div>\n",
       "<style scoped>\n",
       "    .dataframe tbody tr th:only-of-type {\n",
       "        vertical-align: middle;\n",
       "    }\n",
       "\n",
       "    .dataframe tbody tr th {\n",
       "        vertical-align: top;\n",
       "    }\n",
       "\n",
       "    .dataframe thead th {\n",
       "        text-align: right;\n",
       "    }\n",
       "</style>\n",
       "<table border=\"1\" class=\"dataframe\">\n",
       "  <thead>\n",
       "    <tr style=\"text-align: right;\">\n",
       "      <th></th>\n",
       "      <th>sf</th>\n",
       "      <th>cui</th>\n",
       "      <th>lf</th>\n",
       "      <th>lf_base</th>\n",
       "      <th>source</th>\n",
       "      <th>semtypes</th>\n",
       "      <th>semgroups</th>\n",
       "      <th>is_train</th>\n",
       "      <th>is_accurate</th>\n",
       "      <th>is_clinical_relevant</th>\n",
       "    </tr>\n",
       "  </thead>\n",
       "  <tbody>\n",
       "    <tr>\n",
       "      <td>19</td>\n",
       "      <td>TERC</td>\n",
       "      <td>C1148756</td>\n",
       "      <td>telomerase activity</td>\n",
       "      <td>telomerase activity</td>\n",
       "      <td>pubmed</td>\n",
       "      <td>Genetic Function</td>\n",
       "      <td>Physiology</td>\n",
       "      <td>0</td>\n",
       "      <td>0</td>\n",
       "      <td>0</td>\n",
       "    </tr>\n",
       "    <tr>\n",
       "      <td>25</td>\n",
       "      <td>PRR</td>\n",
       "      <td>C0871208|C1514918|C1521828|C4554488</td>\n",
       "      <td>pup retrieval rate</td>\n",
       "      <td>pup retrieval rate</td>\n",
       "      <td>pubmed</td>\n",
       "      <td>Activity|Health Care Activity|Quantitative Con...</td>\n",
       "      <td>Activities &amp; Behaviors|Concepts &amp; Ideas|Proced...</td>\n",
       "      <td>0</td>\n",
       "      <td>0</td>\n",
       "      <td>0</td>\n",
       "    </tr>\n",
       "    <tr>\n",
       "      <td>45</td>\n",
       "      <td>TT</td>\n",
       "      <td>C0003320</td>\n",
       "      <td>t antigens</td>\n",
       "      <td>antigen</td>\n",
       "      <td>pubmed</td>\n",
       "      <td>Immunologic Factor</td>\n",
       "      <td>Chemicals &amp; Drugs</td>\n",
       "      <td>0</td>\n",
       "      <td>0</td>\n",
       "      <td>0</td>\n",
       "    </tr>\n",
       "    <tr>\n",
       "      <td>48</td>\n",
       "      <td>SLY</td>\n",
       "      <td>C0221205|C0457802|C0982164|C1138844|C3151529</td>\n",
       "      <td>strawberry lethal yellows</td>\n",
       "      <td>strawberry lethal yellow</td>\n",
       "      <td>pubmed</td>\n",
       "      <td>Finding|Food|Plant|Qualitative Concept</td>\n",
       "      <td>Concepts &amp; Ideas|Disorders|Living Beings|Objects</td>\n",
       "      <td>0</td>\n",
       "      <td>0</td>\n",
       "      <td>0</td>\n",
       "    </tr>\n",
       "    <tr>\n",
       "      <td>69</td>\n",
       "      <td>SNL</td>\n",
       "      <td>C0023690|C0037925</td>\n",
       "      <td>spinal cord ligation</td>\n",
       "      <td>spinal cord ligation</td>\n",
       "      <td>pubmed</td>\n",
       "      <td>Body Part, Organ, or Organ Component|Therapeut...</td>\n",
       "      <td>Anatomy|Procedures</td>\n",
       "      <td>0</td>\n",
       "      <td>0</td>\n",
       "      <td>0</td>\n",
       "    </tr>\n",
       "    <tr>\n",
       "      <td>70</td>\n",
       "      <td>PEC</td>\n",
       "      <td>C0014122|C0022067|C0439453|C0450254|C1881173|C...</td>\n",
       "      <td>pathogenic ie colii</td>\n",
       "      <td>pathogenic ie colii</td>\n",
       "      <td>pubmed</td>\n",
       "      <td>Disease or Syndrome|Finding|Geographic Area|In...</td>\n",
       "      <td>Concepts &amp; Ideas|Disorders|Geographic Areas|Li...</td>\n",
       "      <td>0</td>\n",
       "      <td>0</td>\n",
       "      <td>1</td>\n",
       "    </tr>\n",
       "    <tr>\n",
       "      <td>75</td>\n",
       "      <td>EE</td>\n",
       "      <td>C0085584|C1963101|C4554030</td>\n",
       "      <td>encephalopathy|encephalopathies</td>\n",
       "      <td>encephalopathy</td>\n",
       "      <td>pubmed</td>\n",
       "      <td>Disease or Syndrome|Finding</td>\n",
       "      <td>Disorders</td>\n",
       "      <td>0</td>\n",
       "      <td>0</td>\n",
       "      <td>1</td>\n",
       "    </tr>\n",
       "    <tr>\n",
       "      <td>93</td>\n",
       "      <td>HOLD</td>\n",
       "      <td>C1553387|C1720083|C1948035|C3853841</td>\n",
       "      <td>hold  dosing instruction fragment</td>\n",
       "      <td>hold dosing instruction fragment</td>\n",
       "      <td>umls</td>\n",
       "      <td>Activity|Functional Concept|Intellectual Product</td>\n",
       "      <td>Activities &amp; Behaviors|Concepts &amp; Ideas</td>\n",
       "      <td>0</td>\n",
       "      <td>0</td>\n",
       "      <td>0</td>\n",
       "    </tr>\n",
       "    <tr>\n",
       "      <td>97</td>\n",
       "      <td>PA</td>\n",
       "      <td>C1418892</td>\n",
       "      <td>prh1 gene</td>\n",
       "      <td>prh1 gene</td>\n",
       "      <td>umls</td>\n",
       "      <td>Gene or Genome</td>\n",
       "      <td>Genes &amp; Molecular Sequences</td>\n",
       "      <td>0</td>\n",
       "      <td>0</td>\n",
       "      <td>0</td>\n",
       "    </tr>\n",
       "  </tbody>\n",
       "</table>\n",
       "</div>"
      ],
      "text/plain": [
       "      sf                                                cui  \\\n",
       "19  TERC                                           C1148756   \n",
       "25   PRR                C0871208|C1514918|C1521828|C4554488   \n",
       "45    TT                                           C0003320   \n",
       "48   SLY       C0221205|C0457802|C0982164|C1138844|C3151529   \n",
       "69   SNL                                  C0023690|C0037925   \n",
       "70   PEC  C0014122|C0022067|C0439453|C0450254|C1881173|C...   \n",
       "75    EE                         C0085584|C1963101|C4554030   \n",
       "93  HOLD                C1553387|C1720083|C1948035|C3853841   \n",
       "97    PA                                           C1418892   \n",
       "\n",
       "                                   lf                           lf_base  \\\n",
       "19                telomerase activity               telomerase activity   \n",
       "25                 pup retrieval rate                pup retrieval rate   \n",
       "45                         t antigens                           antigen   \n",
       "48          strawberry lethal yellows          strawberry lethal yellow   \n",
       "69               spinal cord ligation              spinal cord ligation   \n",
       "70                pathogenic ie colii               pathogenic ie colii   \n",
       "75    encephalopathy|encephalopathies                    encephalopathy   \n",
       "93  hold  dosing instruction fragment  hold dosing instruction fragment   \n",
       "97                          prh1 gene                         prh1 gene   \n",
       "\n",
       "    source                                           semtypes  \\\n",
       "19  pubmed                                   Genetic Function   \n",
       "25  pubmed  Activity|Health Care Activity|Quantitative Con...   \n",
       "45  pubmed                                 Immunologic Factor   \n",
       "48  pubmed             Finding|Food|Plant|Qualitative Concept   \n",
       "69  pubmed  Body Part, Organ, or Organ Component|Therapeut...   \n",
       "70  pubmed  Disease or Syndrome|Finding|Geographic Area|In...   \n",
       "75  pubmed                        Disease or Syndrome|Finding   \n",
       "93    umls   Activity|Functional Concept|Intellectual Product   \n",
       "97    umls                                     Gene or Genome   \n",
       "\n",
       "                                            semgroups  is_train  is_accurate  \\\n",
       "19                                         Physiology         0            0   \n",
       "25  Activities & Behaviors|Concepts & Ideas|Proced...         0            0   \n",
       "45                                  Chemicals & Drugs         0            0   \n",
       "48   Concepts & Ideas|Disorders|Living Beings|Objects         0            0   \n",
       "69                                 Anatomy|Procedures         0            0   \n",
       "70  Concepts & Ideas|Disorders|Geographic Areas|Li...         0            0   \n",
       "75                                          Disorders         0            0   \n",
       "93            Activities & Behaviors|Concepts & Ideas         0            0   \n",
       "97                        Genes & Molecular Sequences         0            0   \n",
       "\n",
       "    is_clinical_relevant  \n",
       "19                     0  \n",
       "25                     0  \n",
       "45                     0  \n",
       "48                     0  \n",
       "69                     0  \n",
       "70                     1  \n",
       "75                     1  \n",
       "93                     0  \n",
       "97                     0  "
      ]
     },
     "execution_count": 12,
     "metadata": {},
     "output_type": "execute_result"
    }
   ],
   "source": [
    "test_df.loc[mistakes, :]"
   ]
  },
  {
   "cell_type": "code",
   "execution_count": null,
   "metadata": {},
   "outputs": [],
   "source": []
  }
 ],
 "metadata": {
  "kernelspec": {
   "display_name": "Python 3",
   "language": "python",
   "name": "python3"
  },
  "language_info": {
   "codemirror_mode": {
    "name": "ipython",
    "version": 3
   },
   "file_extension": ".py",
   "mimetype": "text/x-python",
   "name": "python",
   "nbconvert_exporter": "python",
   "pygments_lexer": "ipython3",
   "version": "3.6.9"
  },
  "varInspector": {
   "cols": {
    "lenName": 16,
    "lenType": 16,
    "lenVar": 40
   },
   "kernels_config": {
    "python": {
     "delete_cmd_postfix": "",
     "delete_cmd_prefix": "del ",
     "library": "var_list.py",
     "varRefreshCmd": "print(var_dic_list())"
    },
    "r": {
     "delete_cmd_postfix": ") ",
     "delete_cmd_prefix": "rm(",
     "library": "var_list.r",
     "varRefreshCmd": "cat(var_dic_list()) "
    }
   },
   "types_to_exclude": [
    "module",
    "function",
    "builtin_function_or_method",
    "instance",
    "_Feature"
   ],
   "window_display": false
  }
 },
 "nbformat": 4,
 "nbformat_minor": 2
}
