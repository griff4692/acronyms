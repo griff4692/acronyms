{
 "cells": [
  {
   "cell_type": "code",
   "execution_count": 1,
   "metadata": {},
   "outputs": [],
   "source": [
    "import pandas as pd\n",
    "import numpy as np\n",
    "import sklearn"
   ]
  },
  {
   "cell_type": "code",
   "execution_count": 4,
   "metadata": {},
   "outputs": [
    {
     "name": "stdout",
     "output_type": "stream",
     "text": [
      "(300, 10)\n"
     ]
    }
   ],
   "source": [
    "data = pd.read_csv('~/Desktop/expansion_inclusion_dataset.csv')\n",
    "print(data.shape)"
   ]
  },
  {
   "cell_type": "code",
   "execution_count": 11,
   "metadata": {},
   "outputs": [
    {
     "name": "stdout",
     "output_type": "stream",
     "text": [
      "(74, 10)\n"
     ]
    }
   ],
   "source": [
    "# Filter for data that's been labeled already\n",
    "labeled_data = data[data['is_accurate'].notnull()].copy()\n",
    "l1 = 'is_accurate'\n",
    "l2 = 'is_clinical_relevant'\n",
    "labeled_data[l1] = labeled_data[l1].apply(int)\n",
    "labeled_data[l2] = labeled_data[l2].apply(int)\n",
    "print(labeled_data.shape)"
   ]
  },
  {
   "cell_type": "code",
   "execution_count": 14,
   "metadata": {},
   "outputs": [],
   "source": [
    "l1 = 'is_accurate'\n",
    "l2 = 'is_clinical_relevant'\n",
    "labeled_data['y'] = labeled_data[l1].combine(labeled_data[l2], lambda a, b: 1 if a == 1 and b == 1 else 0)"
   ]
  },
  {
   "cell_type": "code",
   "execution_count": 16,
   "metadata": {},
   "outputs": [
    {
     "name": "stdout",
     "output_type": "stream",
     "text": [
      "Negative Examples=62, Positive Examples=12\n",
      "     sf                                                cui  \\\n",
      "0   HNE  C0064833|C0205177|C0443467|C1414369|C3853793|C...   \n",
      "1   LDR       C0013621|C0023185|C0680238|C0681814|C1706386   \n",
      "2   ADP  C0032400|C0071360|C0332265|C0335296|C0747726|C...   \n",
      "3   BPL                         C0023047|C0325581|C0998565   \n",
      "4    GE                                           C0200044   \n",
      "5   TBD                                  C0075804|C1511331   \n",
      "6   PLT  C0030705|C0042444|C0243148|C0332293|C0348005|C...   \n",
      "7  PARS                C0023689|C0035549|C0137710|C4522002   \n",
      "8    DE                                  C0441471|C4019010   \n",
      "9   DSW                         C0205148|C0678544|C1421479   \n",
      "\n",
      "                                                lf  source  \\\n",
      "0        high levels of active neutrophil elastase  pubmed   \n",
      "1  learner disagreement from experiment resampling  pubmed   \n",
      "2                  activation demonstrated by poly  pubmed   \n",
      "3                   boettcherisca peregrine larvae  pubmed   \n",
      "4                       gynaecological examination  pubmed   \n",
      "5                               tandem bromodomain  pubmed   \n",
      "6        patients treated with its vehicle control  pubmed   \n",
      "7    poly adenosine 5diphosphate ribose synthetase  pubmed   \n",
      "8                             dermatological event  pubmed   \n",
      "9                            dyakonov surface wave  pubmed   \n",
      "\n",
      "                                            semtypes  \\\n",
      "0  Amino Acid, Peptide, or Protein|Enzyme|Finding...   \n",
      "1  Conceptual Entity|Educational Activity|Mental ...   \n",
      "2  Activity|Conceptual Entity|Functional Concept|...   \n",
      "3                                     Bird|Eukaryote   \n",
      "4                               Health Care Activity   \n",
      "5  Amino Acid Sequence|Organic Chemical|Pharmacol...   \n",
      "6  Biomedical or Dental Material|Conceptual Entit...   \n",
      "7  Amino Acid, Peptide, or Protein|Enzyme|Nucleic...   \n",
      "8                           Clinical Attribute|Event   \n",
      "9  Gene or Genome|Natural Phenomenon or Process|S...   \n",
      "\n",
      "                                           semgroups  is_train  is_accurate  \\\n",
      "0  Chemicals & Drugs|Concepts & Ideas|Disorders|G...         0            0   \n",
      "1  Activities & Behaviors|Concepts & Ideas|Physio...         0            0   \n",
      "2  Activities & Behaviors|Chemicals & Drugs|Conce...         0            0   \n",
      "3                                      Living Beings         0            1   \n",
      "4                                         Procedures         0            1   \n",
      "5      Chemicals & Drugs|Genes & Molecular Sequences         0            1   \n",
      "6  Chemicals & Drugs|Concepts & Ideas|Living Bein...         0            0   \n",
      "7                 Chemicals & Drugs|Concepts & Ideas         0            1   \n",
      "8                  Activities & Behaviors|Physiology         0            0   \n",
      "9  Concepts & Ideas|Genes & Molecular Sequences|P...         0            1   \n",
      "\n",
      "   is_clinical_relevant Unnamed: 9  y  \n",
      "0                     0        NaN  0  \n",
      "1                     0        NaN  0  \n",
      "2                     0        NaN  0  \n",
      "3                     0        NaN  0  \n",
      "4                     1        NaN  1  \n",
      "5                     0        NaN  0  \n",
      "6                     0        NaN  0  \n",
      "7                     0        NaN  0  \n",
      "8                     0        NaN  0  \n",
      "9                     0        NaN  0  \n"
     ]
    }
   ],
   "source": [
    "neg_examples = labeled_data[labeled_data['y'] == 0].shape[0]\n",
    "pos_examples = labeled_data[labeled_data['y'] == 1].shape[0]\n",
    "\n",
    "print('Negative Examples={}, Positive Examples={}'.format(neg_examples, pos_examples))"
   ]
  },
  {
   "cell_type": "code",
   "execution_count": 98,
   "metadata": {},
   "outputs": [],
   "source": [
    "# Generate features\n",
    "X_str = []\n",
    "y = []\n",
    "for _, row in labeled_data.iterrows():\n",
    "    row = row.to_dict()\n",
    "    x = {}\n",
    "    sem_groups = row['semgroups'].split('|')\n",
    "    for sem_group in sem_groups:\n",
    "        x[sem_group] = 1.0\n",
    "    lfs = row['lf'].split('|')\n",
    "    x['support'] = len(lfs)\n",
    "    y.append(row['y'])\n",
    "    \n",
    "    sem_types = row['semtypes'].split('|')\n",
    "    for sem_type in sem_types:\n",
    "        x[sem_type] = 1.0\n",
    "    X_str.append(x)"
   ]
  },
  {
   "cell_type": "code",
   "execution_count": 103,
   "metadata": {},
   "outputs": [],
   "source": [
    "from sklearn.feature_extraction import DictVectorizer\n",
    "dv = DictVectorizer(sparse=False)\n",
    "X = dv.fit_transform(X_str, y)"
   ]
  },
  {
   "cell_type": "code",
   "execution_count": 104,
   "metadata": {},
   "outputs": [
    {
     "data": {
      "text/plain": [
       "RandomForestClassifier(bootstrap=True, class_weight=None, criterion='gini',\n",
       "                       max_depth=None, max_features='auto', max_leaf_nodes=None,\n",
       "                       min_impurity_decrease=0.0, min_impurity_split=None,\n",
       "                       min_samples_leaf=1, min_samples_split=2,\n",
       "                       min_weight_fraction_leaf=0.0, n_estimators=10,\n",
       "                       n_jobs=None, oob_score=False, random_state=None,\n",
       "                       verbose=0, warm_start=False)"
      ]
     },
     "execution_count": 104,
     "metadata": {},
     "output_type": "execute_result"
    }
   ],
   "source": [
    "from sklearn.linear_model import LogisticRegression\n",
    "\n",
    "from sklearn.ensemble import RandomForestClassifier\n",
    "\n",
    "USE_RF = True\n",
    "if USE_RF:\n",
    "    estimator = RandomForestClassifier(n_estimators=10)\n",
    "else:\n",
    "    estimator = LogisticRegression(solver='liblinear')\n",
    "estimator.fit(X, y)"
   ]
  },
  {
   "cell_type": "code",
   "execution_count": 107,
   "metadata": {},
   "outputs": [],
   "source": [
    "y_proba = estimator.predict_proba(X)[:, 1]\n",
    "y_pred = (y_proba >= 0.5).astype(int)"
   ]
  },
  {
   "cell_type": "code",
   "execution_count": 108,
   "metadata": {},
   "outputs": [
    {
     "name": "stdout",
     "output_type": "stream",
     "text": [
      "ROC AUC=1.0\n",
      "              precision    recall  f1-score   support\n",
      "\n",
      "           0       1.00      1.00      1.00        62\n",
      "           1       1.00      1.00      1.00        12\n",
      "\n",
      "    accuracy                           1.00        74\n",
      "   macro avg       1.00      1.00      1.00        74\n",
      "weighted avg       1.00      1.00      1.00        74\n",
      "\n"
     ]
    }
   ],
   "source": [
    "from sklearn.metrics import classification_report, roc_auc_score\n",
    "\n",
    "roc_auc = roc_auc_score(y, y_proba)\n",
    "print('ROC AUC={}'.format(roc_auc))\n",
    "\n",
    "cr = classification_report(y, y_pred)\n",
    "print(cr)"
   ]
  },
  {
   "cell_type": "code",
   "execution_count": 109,
   "metadata": {},
   "outputs": [
    {
     "data": {
      "text/plain": [
       "array([0. , 0. , 0.2, 0.2, 0.7, 0. , 0. , 0. , 0. , 0. , 0. , 0.2, 0.8,\n",
       "       0.1, 0. , 0. , 0.7, 0.1, 0.7, 1. , 0.9, 0.1, 0. , 0.1, 0. , 0. ,\n",
       "       0.1, 0. , 0. , 0. , 0.2, 0. , 0. , 0.1, 0. , 0. , 0.3, 0.6, 0.7,\n",
       "       0.1, 0. , 0.5, 0.5, 0. , 0.1, 0.1, 0.1, 0.9, 0. , 0. , 0.1, 0.2,\n",
       "       0. , 0. , 0.6, 0.2, 0.1, 0. , 0. , 0.1, 0. , 0. , 0.1, 0. , 0.2,\n",
       "       0.1, 0. , 0. , 0. , 0. , 0. , 0. , 0. , 0.1])"
      ]
     },
     "execution_count": 109,
     "metadata": {},
     "output_type": "execute_result"
    }
   ],
   "source": []
  },
  {
   "cell_type": "code",
   "execution_count": null,
   "metadata": {},
   "outputs": [],
   "source": []
  }
 ],
 "metadata": {
  "kernelspec": {
   "display_name": "Python 3",
   "language": "python",
   "name": "python3"
  },
  "language_info": {
   "codemirror_mode": {
    "name": "ipython",
    "version": 3
   },
   "file_extension": ".py",
   "mimetype": "text/x-python",
   "name": "python",
   "nbconvert_exporter": "python",
   "pygments_lexer": "ipython3",
   "version": "3.6.3"
  }
 },
 "nbformat": 4,
 "nbformat_minor": 2
}
